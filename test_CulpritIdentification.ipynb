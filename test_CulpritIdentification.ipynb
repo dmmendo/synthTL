{
 "cells": [
  {
   "cell_type": "code",
   "execution_count": 1,
   "id": "603f37a0-79b1-4c26-8414-963a7bc44f49",
   "metadata": {},
   "outputs": [],
   "source": [
    "from tqdm import tqdm\n",
    "import json\n",
    "import numpy as np\n",
    "import copy\n",
    "\n",
    "import spot_utils\n",
    "import synthTL"
   ]
  },
  {
   "cell_type": "code",
   "execution_count": 2,
   "id": "13d451d8-1153-49ab-9834-29368c467614",
   "metadata": {},
   "outputs": [],
   "source": [
    "translate_dict = synthTL.create_translate_dict('rawcontext_decomposition-worker.xlsx')\n",
    "decompose_dict = synthTL.create_decompose_dict('rawcontext_decomposition-worker.xlsx')\n",
    "cur_nl_spec_fname = \"specs/amba_worker.txt\"\n",
    "test_str = open(cur_nl_spec_fname,\"r\").read()\n",
    "formula_DUT = translate_dict[test_str]\n",
    "cur_graph = synthTL.Node(test_str)\n",
    "synthTL.cur_DUT_variables = spot_utils.get_variables(formula_DUT)"
   ]
  },
  {
   "cell_type": "code",
   "execution_count": 3,
   "id": "7de95f17-c5a2-4928-a59e-372910077f31",
   "metadata": {},
   "outputs": [],
   "source": [
    "def load_llm_translation(exp_name):\n",
    "    cur_retranslation_dict = json.load(open(exp_name+\"_translations.json\"))\n",
    "    cur_redecomposition_dict = json.load(open(exp_name+\"_decompositions.json\"))\n",
    "    all_retranslation_dict = json.load(open(exp_name+\"_alltranslations.json\"))\n",
    "    all_redecomposition_dict = json.load(open(exp_name+\"_alldecompositions.json\"))\n",
    "    correct_abs_id_list = json.load(open(exp_name+\"_correctednodeids.json\"))\n",
    "    return cur_retranslation_dict, cur_redecomposition_dict, all_retranslation_dict, all_redecomposition_dict, correct_abs_id_list"
   ]
  },
  {
   "cell_type": "code",
   "execution_count": 4,
   "id": "aa16ee09-8cbe-4b1e-bed7-c446e57dbafd",
   "metadata": {},
   "outputs": [],
   "source": [
    "def create_test_graph_list(nl_spec_fname,num_graph=1,root_only=False,mode='cache'):\n",
    "    assert mode in ['cache','LLM']\n",
    "    res_list = []\n",
    "    for i in tqdm(range(num_graph)):\n",
    "        test_str = open(nl_spec_fname,\"r\").read()\n",
    "        formula_DUT = translate_dict[test_str]\n",
    "        cur_graph = synthTL.Node(test_str)\n",
    "        if not root_only:\n",
    "            synthTL.dfs_decompose(cur_graph,mode=mode,decompose_dict=decompose_dict)\n",
    "            synthTL.dfs_translate(cur_graph,mode=mode,t_type='template',translate_dict=translate_dict)\n",
    "        res_list.append(cur_graph)\n",
    "    return res_list, formula_DUT\n"
   ]
  },
  {
   "cell_type": "code",
   "execution_count": 5,
   "id": "517b95b3-df76-4bf6-b777-7396fe6684da",
   "metadata": {},
   "outputs": [],
   "source": [
    "def construct_all_node_perturb(cur_graph,unary_op_str):\n",
    "    new_graph_list = []\n",
    "    all_culprit_list = []\n",
    "    for cur_node in synthTL.get_all_descendants(cur_graph):\n",
    "        new_graph = synthTL.copy_graph(cur_graph)\n",
    "        new_node = synthTL.find_descendant(new_graph,synthTL.get_unique_node_id(cur_node))\n",
    "        new_translation = unary_op_str+\"(\"+synthTL.get_node_translation(new_node)+\")\"\n",
    "        if len(new_node.dcmp_dict) > 0:\n",
    "            new_node.template_translation = new_translation\n",
    "        else:\n",
    "            new_node.translation = new_translation\n",
    "        synthTL.dfs_translate(new_graph,mode='NoRun',t_type='template')\n",
    "        new_graph_list.append(new_graph)\n",
    "        all_culprit_list.append([new_node])\n",
    "    return new_graph_list, all_culprit_list"
   ]
  },
  {
   "cell_type": "code",
   "execution_count": 6,
   "id": "30c353fb-0fe7-461c-a675-201f6b0498d5",
   "metadata": {},
   "outputs": [
    {
     "name": "stderr",
     "output_type": "stream",
     "text": [
      "100%|█████████████████████████████████████████████████████████████████████████████████████████████████████████████████████████████████████████████████████████████████████████████████████████████████████████████████████████████████████████████████████████████████████████████████████████| 1/1 [00:00<00:00, 636.85it/s]\n"
     ]
    }
   ],
   "source": [
    "cur_test_list,formula_DUT = create_test_graph_list(cur_nl_spec_fname,num_graph=1)"
   ]
  },
  {
   "cell_type": "code",
   "execution_count": 7,
   "id": "09320399-f8f8-4c97-ad5f-140bccd3eb35",
   "metadata": {},
   "outputs": [],
   "source": [
    "def save_culprit_data(exp_name,cur_graph,all_culprit_list,all_possible_culprit_list):\n",
    "    all_node_ids = [synthTL.get_unique_node_id(node) for node in synthTL.get_all_descendants(cur_graph)]\n",
    "    all_culprit_ids = [[synthTL.get_unique_node_id(node) for node in cur_list]for cur_list in all_culprit_list]\n",
    "    all_possible_culprit_ids = [[synthTL.get_unique_node_id(node) for node in cur_list]for cur_list in all_possible_culprit_list]\n",
    "    data = \\\n",
    "    {\n",
    "        \"all_nodes\":all_node_ids, \\\n",
    "        \"all_culprit_list\":all_culprit_ids, \\\n",
    "        \"all_possible_culprit_list\":all_possible_culprit_ids,\n",
    "    }\n",
    "    with open(exp_name+'_culpritdata.json', 'w') as f:\n",
    "        json.dump(data, f)\n",
    "\n",
    "def load_culprit_data(exp_name):\n",
    "    data = json.load(open(exp_name+'_culpritdata.json','r'))\n",
    "    node_list=data[\"all_nodes\"]\n",
    "    all_culprit_list = data[\"all_culprit_list\"]\n",
    "    all_possible_culprit_list = data[\"all_possible_culprit_list\"]\n",
    "    return node_list, all_culprit_list, all_possible_culprit_list"
   ]
  },
  {
   "cell_type": "markdown",
   "id": "201faf59-8aa3-4a92-95f3-da4c8aac0d4a",
   "metadata": {},
   "source": [
    "#### incorrect spec"
   ]
  },
  {
   "cell_type": "code",
   "execution_count": 8,
   "id": "c0d2ee91-9040-4d1c-bff2-c605b63e71d4",
   "metadata": {},
   "outputs": [],
   "source": [
    "mode = \"allculprit\"\n",
    "#mode = \"allculpritfilter\"\n",
    "#unary_op_str=\"G\"\n",
    "unary_op_str=\"X\"\n",
    "#unary_op_str=\"!\""
   ]
  },
  {
   "cell_type": "code",
   "execution_count": 9,
   "id": "2d19195c-2a6a-467e-b311-db60e8a1b816",
   "metadata": {},
   "outputs": [],
   "source": [
    "perturb_list,all_culprit_list = construct_all_node_perturb(cur_test_list[0],unary_op_str=unary_op_str)\n",
    "np.random.seed(0)\n",
    "num_ex = 10\n",
    "select_idx = np.random.choice(len(perturb_list),size=num_ex,replace=False)\n",
    "perturb_list = [perturb_list[idx] for idx in select_idx]\n",
    "all_culprit_list = [all_culprit_list[idx] for idx in select_idx]\n",
    "\n",
    "hold_set = synthTL.batch_model_check([g.translation for g in perturb_list],formula_DUT)\n",
    "buggy_list = [entry for entry in perturb_list if entry.translation not in hold_set]\n",
    "all_culprit_list = [all_culprit_list[i] for i in range(len(perturb_list)) if perturb_list[i].translation not in hold_set]"
   ]
  },
  {
   "cell_type": "code",
   "execution_count": 10,
   "id": "7c858b94-bcd4-4cb4-a844-6a20b1712846",
   "metadata": {},
   "outputs": [
    {
     "name": "stdout",
     "output_type": "stream",
     "text": [
      "CPU times: user 41 s, sys: 120 ms, total: 41.1 s\n",
      "Wall time: 41 s\n"
     ]
    }
   ],
   "source": [
    "%%time\n",
    "if mode == \"allculprit\":\n",
    "    all_possible_culprit_list = synthTL.get_culprit_batch(buggy_list,formula_DUT,depth=2)\n",
    "elif mode == \"allculpritfilter\":\n",
    "    cur_possible_culprit_list = synthTL.get_culprit_batch(buggy_list,formula_DUT,depth=2)\n",
    "    all_possible_culprit_list = []\n",
    "    for i in tqdm(range(len(cur_possible_culprit_list))):\n",
    "        cur_list = synthTL.filter_if_dependancy_holds(buggy_list[i],cur_possible_culprit_list[i],formula_DUT,fail_nodes=cur_possible_culprit_list[i])\n",
    "        all_possible_culprit_list.append(cur_list)"
   ]
  },
  {
   "cell_type": "code",
   "execution_count": 11,
   "id": "7552eeb2-bb09-4af7-97cd-af3bd9591fba",
   "metadata": {},
   "outputs": [],
   "source": [
    "exp_name = \"tmp_buggySpec\"\n",
    "save_culprit_data(exp_name=exp_name,cur_graph=cur_test_list[0],all_culprit_list=all_culprit_list,all_possible_culprit_list=all_possible_culprit_list)\n",
    "node_list, all_culprit_list, all_possible_culprit_list = load_culprit_data(exp_name=exp_name)"
   ]
  },
  {
   "cell_type": "code",
   "execution_count": 12,
   "id": "e9ffe73a-50f4-45c4-991f-1989d024b73b",
   "metadata": {},
   "outputs": [
    {
     "name": "stdout",
     "output_type": "stream",
     "text": [
      "fraction marked as possible culprit:\n",
      "0.4339622641509434\n",
      "0.49056603773584906\n",
      "0.49056603773584906\n",
      "0.49056603773584906\n",
      "1.0\n",
      "1.0\n"
     ]
    }
   ],
   "source": [
    "num_nodes = len(synthTL.get_all_descendants(cur_test_list[0]))\n",
    "res_list = []\n",
    "total_sum = 0\n",
    "total_recall = 0\n",
    "print(\"fraction marked as possible culprit:\")\n",
    "for i in range(len(all_possible_culprit_list)):\n",
    "    correct_culprits = set(all_possible_culprit_list[i]).intersection(set(all_culprit_list[i]))\n",
    "    print(len(all_possible_culprit_list[i])/num_nodes) #% marked as culprit\n",
    "    res_list.append(len(all_possible_culprit_list[i])/num_nodes)\n",
    "    total_sum += len(all_possible_culprit_list[i])/num_nodes\n",
    "    total_recall += len(correct_culprits)/len(all_culprit_list[i])"
   ]
  },
  {
   "cell_type": "code",
   "execution_count": 13,
   "id": "6f22057b-0798-47a9-b01f-b0f2da97d558",
   "metadata": {},
   "outputs": [
    {
     "name": "stdout",
     "output_type": "stream",
     "text": [
      "6\n",
      "53\n",
      "avg. marked as possible culprit: 0.6509433962264151\n",
      "avg. true culprit recall: 1.0\n"
     ]
    }
   ],
   "source": [
    "print(len(all_possible_culprit_list))\n",
    "print(num_nodes)\n",
    "print(\"avg. marked as possible culprit:\",total_sum/len(all_possible_culprit_list))\n",
    "print(\"avg. true culprit recall:\",total_recall/len(all_possible_culprit_list))"
   ]
  },
  {
   "cell_type": "markdown",
   "id": "3339c638-afbd-48b5-8f2d-368813c323db",
   "metadata": {},
   "source": [
    "#### DUT incorrect"
   ]
  },
  {
   "cell_type": "code",
   "execution_count": 14,
   "id": "2158ec77-3ef9-4d2b-b07c-8f9388a15abf",
   "metadata": {},
   "outputs": [],
   "source": [
    "#mode = \"allculprit\"\n",
    "mode = \"allculpritfilter\"\n",
    "#unary_op_str=\"G\"\n",
    "unary_op_str=\"X\"\n",
    "#unary_op_str=\"!\""
   ]
  },
  {
   "cell_type": "code",
   "execution_count": 15,
   "id": "88b8372a-6789-4320-a169-de7010010197",
   "metadata": {},
   "outputs": [
    {
     "name": "stderr",
     "output_type": "stream",
     "text": [
      "100%|████████████████████████████████████████████████████████████████████████████████████████████████████████████████████████████████████████████████████████████████████████████████████████████████████████████████████████████████████████████████████████████████████████████████████████| 10/10 [00:17<00:00,  1.80s/it]\n"
     ]
    }
   ],
   "source": [
    "perturb_list,perturb_culprit_list = construct_all_node_perturb(cur_test_list[0],unary_op_str=unary_op_str)\n",
    "num_ex = 10\n",
    "np.random.seed(0)\n",
    "select_idx = np.random.choice(len(perturb_list),size=num_ex,replace=False)\n",
    "perturb_list = [perturb_list[idx] for idx in select_idx]\n",
    "perturb_culprit_list = [perturb_culprit_list[idx] for idx in select_idx]\n",
    "buggy_list = []\n",
    "all_culprit_list = []\n",
    "for i in tqdm(range(len(perturb_list))):\n",
    "    if not spot_utils.check_formula_contains_formula(cur_test_list[0].translation,perturb_list[i].translation,use_contains_split=True):\n",
    "        buggy_list.append(perturb_list[i])\n",
    "        all_culprit_list.append(perturb_culprit_list[i])"
   ]
  },
  {
   "cell_type": "code",
   "execution_count": 16,
   "id": "900054b5-2145-4015-b384-20f9e9a73b65",
   "metadata": {},
   "outputs": [
    {
     "name": "stderr",
     "output_type": "stream",
     "text": [
      "100%|██████████████████████████████████████████████████████████████████████████████████████████████████████████████████████████████████████████████████████████████████████████████████████████████████████████████████████████████████████████████████████████████████████████████████████████| 8/8 [01:06<00:00,  8.29s/it]\n"
     ]
    }
   ],
   "source": [
    "all_possible_culprit_list = []\n",
    "for g in tqdm(buggy_list):\n",
    "    if mode == \"allculprit\":\n",
    "        all_possible_culprit_list += synthTL.get_culprit_batch(cur_test_list,g.translation,depth=2)\n",
    "    elif mode == \"allculpritfilter\":\n",
    "        cur_possible_culprit_list = synthTL.get_culprit_batch(cur_test_list,g.translation,depth=2)[0]\n",
    "        cur_list = synthTL.filter_if_dependancy_holds(cur_test_list[0],cur_possible_culprit_list,g.translation,fail_nodes=cur_possible_culprit_list)\n",
    "        all_possible_culprit_list.append(cur_list)"
   ]
  },
  {
   "cell_type": "code",
   "execution_count": 17,
   "id": "58d6de07-93bc-4584-ae4b-368b6415673c",
   "metadata": {},
   "outputs": [],
   "source": [
    "exp_name = \"tmp_buggyDUT\"\n",
    "save_culprit_data(exp_name=exp_name,cur_graph=cur_test_list[0],all_culprit_list=all_culprit_list,all_possible_culprit_list=all_possible_culprit_list)"
   ]
  },
  {
   "cell_type": "code",
   "execution_count": 18,
   "id": "889ae4f9-1648-4a07-b052-bc4a62aa8ef0",
   "metadata": {},
   "outputs": [],
   "source": [
    "node_list, all_culprit_list, all_possible_culprit_list = load_culprit_data(exp_name=exp_name)"
   ]
  },
  {
   "cell_type": "code",
   "execution_count": 19,
   "id": "dbab189f-0515-4d45-9913-33da340d83cf",
   "metadata": {},
   "outputs": [
    {
     "name": "stdout",
     "output_type": "stream",
     "text": [
      "0.05660377358490566\n",
      "0.09433962264150944\n",
      "0.09433962264150944\n",
      "0.09433962264150944\n",
      "0.09433962264150944\n",
      "0.05660377358490566\n",
      "0.018867924528301886\n",
      "0.05660377358490566\n"
     ]
    }
   ],
   "source": [
    "num_nodes = len(synthTL.get_all_descendants(cur_test_list[0]))\n",
    "total_sum = 0\n",
    "total_recall = 0\n",
    "for i in range(len(all_possible_culprit_list)):\n",
    "    #assert all_culprit_list[i][0] in all_possible_culprit_list[i]\n",
    "    \n",
    "    correct_culprits = set(all_possible_culprit_list[i]).intersection(set(all_culprit_list[i]))\n",
    "    #print(len(all_possible_culprit_list[i])/num_nodes,len(correct_culprits)/len(all_culprit_list[i]))\n",
    "    #print(len(all_possible_culprit_list[i])/num_nodes)\n",
    "    print(len(all_possible_culprit_list[i])/num_nodes) #% marked as culprit\n",
    "    total_sum += len(all_possible_culprit_list[i])/num_nodes\n",
    "    total_recall += len(correct_culprits)/len(all_culprit_list[i])"
   ]
  },
  {
   "cell_type": "code",
   "execution_count": 20,
   "id": "36dffadd-23d9-4168-905c-a1576f709640",
   "metadata": {},
   "outputs": [
    {
     "name": "stdout",
     "output_type": "stream",
     "text": [
      "8\n",
      "53\n",
      "avg. marked as possible culprit: 0.07075471698113207\n",
      "avg. true culprit recall: 1.0\n"
     ]
    }
   ],
   "source": [
    "print(len(all_possible_culprit_list))\n",
    "print(num_nodes)\n",
    "print(\"avg. marked as possible culprit:\",total_sum/len(all_possible_culprit_list))\n",
    "print(\"avg. true culprit recall:\",total_recall/len(all_possible_culprit_list))"
   ]
  },
  {
   "cell_type": "code",
   "execution_count": null,
   "id": "c671d12d-a967-4708-bfc3-9a505e6bee8e",
   "metadata": {},
   "outputs": [],
   "source": []
  }
 ],
 "metadata": {
  "kernelspec": {
   "display_name": "Python 3 (ipykernel)",
   "language": "python",
   "name": "python3"
  },
  "language_info": {
   "codemirror_mode": {
    "name": "ipython",
    "version": 3
   },
   "file_extension": ".py",
   "mimetype": "text/x-python",
   "name": "python",
   "nbconvert_exporter": "python",
   "pygments_lexer": "ipython3",
   "version": "3.8.10"
  }
 },
 "nbformat": 4,
 "nbformat_minor": 5
}
