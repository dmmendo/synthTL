{
 "cells": [
  {
   "cell_type": "code",
   "execution_count": 1,
   "id": "603f37a0-79b1-4c26-8414-963a7bc44f49",
   "metadata": {},
   "outputs": [],
   "source": [
    "from tqdm import tqdm\n",
    "import json\n",
    "import numpy as np\n",
    "import copy\n",
    "\n",
    "import spot_utils\n",
    "import synthTL"
   ]
  },
  {
   "cell_type": "code",
   "execution_count": 2,
   "id": "9b0f49ed-7e3c-4ccd-8fdc-bab7dfd24d69",
   "metadata": {},
   "outputs": [],
   "source": [
    "translate_dict = synthTL.create_translate_dict('metadata/rawcontext_decomposition-worker.xlsx')\n",
    "cur_nl_spec_fname = \"specs/amba_worker.txt\"\n",
    "test_str = open(cur_nl_spec_fname,\"r\").read()\n",
    "formula_DUT = translate_dict[test_str]\n",
    "cur_graph = synthTL.Node(test_str)\n",
    "synthTL.cur_DUT_variables = spot_utils.get_variables(formula_DUT)"
   ]
  },
  {
   "cell_type": "code",
   "execution_count": 3,
   "id": "82b18342-26e6-48af-9b6c-e07eba22e9fa",
   "metadata": {},
   "outputs": [],
   "source": [
    "exp_name = \"metadata/ambaworker_llm-3\""
   ]
  },
  {
   "cell_type": "code",
   "execution_count": 4,
   "id": "7de95f17-c5a2-4928-a59e-372910077f31",
   "metadata": {},
   "outputs": [],
   "source": [
    "def load_llm_translation(exp_name):\n",
    "    cur_retranslation_dict = json.load(open(exp_name+\"_translations.json\"))\n",
    "    cur_redecomposition_dict = json.load(open(exp_name+\"_decompositions.json\"))\n",
    "    all_retranslation_dict = json.load(open(exp_name+\"_alltranslations.json\"))\n",
    "    all_redecomposition_dict = json.load(open(exp_name+\"_alldecompositions.json\"))\n",
    "    correct_abs_id_list = json.load(open(exp_name+\"_correctednodeids.json\"))\n",
    "    return cur_retranslation_dict, cur_redecomposition_dict, all_retranslation_dict, all_redecomposition_dict, correct_abs_id_list"
   ]
  },
  {
   "cell_type": "code",
   "execution_count": 5,
   "id": "b418e00c-3749-4da2-9c24-66e28d2a6acd",
   "metadata": {},
   "outputs": [],
   "source": [
    "cur_test_list = [synthTL.Node(test_str)]"
   ]
  },
  {
   "cell_type": "code",
   "execution_count": 6,
   "id": "c9e179a0-b047-45e0-a09e-c64e4e4ac9d5",
   "metadata": {},
   "outputs": [
    {
     "name": "stdout",
     "output_type": "stream",
     "text": [
      "4096\n"
     ]
    }
   ],
   "source": [
    "def set_translation_ambiguity(retranslation_dict,redecomposition_dict,all_retranslation_dict,correct_abs_id_list,k_ambiguity = 1,total_ambiguity_threshold = 2**14):\n",
    "    np.random.seed(0)\n",
    "    order_idx = np.random.choice(len(correct_abs_id_list),size=len(correct_abs_id_list),replace=False)\n",
    "    cur_retranslation_dict = copy.deepcopy(retranslation_dict)\n",
    "    cur_ambiguity = synthTL.count_graphs(cur_test_list[0],cur_retranslation_dict,redecomposition_dict,mode='baseline')\n",
    "    for next_id_query in [correct_abs_id_list[idx] for idx in order_idx]:\n",
    "        if len(cur_retranslation_dict[next_id_query]) < k_ambiguity and cur_ambiguity*k_ambiguity < total_ambiguity_threshold:\n",
    "            cur_translation_list = synthTL.remove_duplicate_translations(all_retranslation_dict[next_id_query])\n",
    "            extra_select = cur_translation_list[:k_ambiguity-1]\n",
    "            cur_retranslation_dict[next_id_query] = retranslation_dict[next_id_query] + extra_select\n",
    "            cur_ambiguity = synthTL.count_graphs(cur_test_list[0],cur_retranslation_dict,redecomposition_dict,mode='baseline')\n",
    "    print(cur_ambiguity)\n",
    "    return cur_retranslation_dict\n",
    "    \n",
    "cur_retranslation_dict, cur_redecomposition_dict, all_retranslation_dict, all_redecomposition_dict, correct_abs_id_list = load_llm_translation(exp_name)\n",
    "cur_retranslation_dict = set_translation_ambiguity(\n",
    "                            cur_retranslation_dict,\n",
    "                            cur_redecomposition_dict,\n",
    "                            all_retranslation_dict,\n",
    "                            correct_abs_id_list,\n",
    "                            k_ambiguity = 2,\n",
    "                            total_ambiguity_threshold = 2**13)"
   ]
  },
  {
   "cell_type": "code",
   "execution_count": 7,
   "id": "81c02f71-e65e-48a3-a654-cf31c284b651",
   "metadata": {
    "scrolled": true
   },
   "outputs": [
    {
     "name": "stdout",
     "output_type": "stream",
     "text": [
      "CPU times: user 1min 32s, sys: 427 ms, total: 1min 32s\n",
      "Wall time: 1min 32s\n"
     ]
    }
   ],
   "source": [
    "%%time\n",
    "checked_graphs = set()\n",
    "mc_graph_list = synthTL.constrain_decomposition_for_node(cur_test_list[0],\n",
    "                                               node=cur_test_list[0],\n",
    "                                               retranslation_dict=cur_retranslation_dict,\n",
    "                                               redecomposition_dict=cur_redecomposition_dict,\n",
    "                                               #redecomposition_dict=graph_to_decompose_cache(mc_holds_graph_list[0]),\n",
    "                                               formula_DUT=formula_DUT,\n",
    "                                               dec_cache={},\n",
    "                                               visited_set=set(),\n",
    "                                               checked_graphs=checked_graphs)"
   ]
  },
  {
   "cell_type": "code",
   "execution_count": 8,
   "id": "986eb7ad-1432-4e72-987c-211957608783",
   "metadata": {},
   "outputs": [
    {
     "data": {
      "text/plain": [
       "3"
      ]
     },
     "execution_count": 8,
     "metadata": {},
     "output_type": "execute_result"
    }
   ],
   "source": [
    "len(mc_graph_list)"
   ]
  },
  {
   "cell_type": "code",
   "execution_count": 9,
   "id": "9b1cf0e2-8622-4e0a-aeff-037700c3788c",
   "metadata": {},
   "outputs": [
    {
     "data": {
      "text/plain": [
       "True"
      ]
     },
     "execution_count": 9,
     "metadata": {},
     "output_type": "execute_result"
    }
   ],
   "source": [
    "any([spot_utils.check_equivalent(g.translation,formula_DUT) for g in mc_graph_list])"
   ]
  },
  {
   "cell_type": "code",
   "execution_count": 10,
   "id": "a64b1078-129d-40fb-85fb-e171770a3521",
   "metadata": {},
   "outputs": [],
   "source": [
    "filtered_list = synthTL.filter_graph_list(graph_list=mc_graph_list,filter_func=synthTL.get_most_constrained)"
   ]
  },
  {
   "cell_type": "code",
   "execution_count": 11,
   "id": "62f6e655-b69d-4b4e-a5d3-5c7f77eed8a8",
   "metadata": {},
   "outputs": [],
   "source": [
    "assert spot_utils.check_equivalent(filtered_list[0].translation,formula_DUT)"
   ]
  },
  {
   "cell_type": "code",
   "execution_count": 12,
   "id": "5d345fe1-4d8f-4427-9117-c5e1bea69c9c",
   "metadata": {},
   "outputs": [
    {
     "data": {
      "text/plain": [
       "48"
      ]
     },
     "execution_count": 12,
     "metadata": {},
     "output_type": "execute_result"
    }
   ],
   "source": [
    "len(synthTL.get_all_descendants(filtered_list[0]))"
   ]
  },
  {
   "cell_type": "code",
   "execution_count": 13,
   "id": "ce17a7c8-71aa-45c0-8748-8f53c25b201b",
   "metadata": {},
   "outputs": [
    {
     "data": {
      "text/plain": [
       "4096"
      ]
     },
     "execution_count": 13,
     "metadata": {},
     "output_type": "execute_result"
    }
   ],
   "source": [
    "synthTL.count_graphs(cur_test_list[0],cur_retranslation_dict,cur_redecomposition_dict,mode='baseline')"
   ]
  },
  {
   "cell_type": "code",
   "execution_count": 14,
   "id": "7b983cf5-c30a-4ed1-936f-309d63f8b978",
   "metadata": {},
   "outputs": [
    {
     "data": {
      "text/plain": [
       "316"
      ]
     },
     "execution_count": 14,
     "metadata": {},
     "output_type": "execute_result"
    }
   ],
   "source": [
    "len(checked_graphs)"
   ]
  },
  {
   "cell_type": "code",
   "execution_count": null,
   "id": "0760b9f8-54e3-4418-93f3-698cf67090e2",
   "metadata": {},
   "outputs": [],
   "source": []
  }
 ],
 "metadata": {
  "kernelspec": {
   "display_name": "Python 3 (ipykernel)",
   "language": "python",
   "name": "python3"
  },
  "language_info": {
   "codemirror_mode": {
    "name": "ipython",
    "version": 3
   },
   "file_extension": ".py",
   "mimetype": "text/x-python",
   "name": "python",
   "nbconvert_exporter": "python",
   "pygments_lexer": "ipython3",
   "version": "3.8.10"
  }
 },
 "nbformat": 4,
 "nbformat_minor": 5
}
