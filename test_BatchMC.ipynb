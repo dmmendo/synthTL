{
 "cells": [
  {
   "cell_type": "code",
   "execution_count": 1,
   "id": "603f37a0-79b1-4c26-8414-963a7bc44f49",
   "metadata": {},
   "outputs": [],
   "source": [
    "from tqdm import tqdm\n",
    "import json\n",
    "import numpy as np\n",
    "import copy\n",
    "\n",
    "import spot_utils\n",
    "import synthTL\n",
    "\n",
    "spot_utils.global_lcc = None"
   ]
  },
  {
   "cell_type": "code",
   "execution_count": 2,
   "id": "d4354cc7-1668-4c92-a266-772ea94648d7",
   "metadata": {},
   "outputs": [],
   "source": [
    "translate_dict = synthTL.create_translate_dict('rawcontext_decomposition-worker.xlsx')\n",
    "cur_nl_spec_fname = \"specs/amba_worker.txt\"\n",
    "test_str = open(cur_nl_spec_fname,\"r\").read()\n",
    "formula_DUT = translate_dict[test_str]\n",
    "cur_graph = synthTL.Node(test_str)\n",
    "synthTL.cur_DUT_variables = spot_utils.get_variables(formula_DUT)"
   ]
  },
  {
   "cell_type": "code",
   "execution_count": 3,
   "id": "6cd72e5c-4162-4cde-8b87-0da2040e76b2",
   "metadata": {},
   "outputs": [],
   "source": [
    "exp_name = \"ambaworker_llm-3\""
   ]
  },
  {
   "cell_type": "code",
   "execution_count": 4,
   "id": "7de95f17-c5a2-4928-a59e-372910077f31",
   "metadata": {},
   "outputs": [],
   "source": [
    "def load_llm_translation(exp_name):\n",
    "    cur_retranslation_dict = json.load(open(exp_name+\"_translations.json\"))\n",
    "    cur_redecomposition_dict = json.load(open(exp_name+\"_decompositions.json\"))\n",
    "    all_retranslation_dict = json.load(open(exp_name+\"_alltranslations.json\"))\n",
    "    all_redecomposition_dict = json.load(open(exp_name+\"_alldecompositions.json\"))\n",
    "    correct_abs_id_list = json.load(open(exp_name+\"_correctednodeids.json\"))\n",
    "    return cur_retranslation_dict, cur_redecomposition_dict, all_retranslation_dict, all_redecomposition_dict, correct_abs_id_list"
   ]
  },
  {
   "cell_type": "code",
   "execution_count": 5,
   "id": "2d6a0534-f24e-47cd-9a62-d1248b563bed",
   "metadata": {},
   "outputs": [
    {
     "name": "stdout",
     "output_type": "stream",
     "text": [
      "4096\n"
     ]
    }
   ],
   "source": [
    "def set_translation_ambiguity(cur_graph,retranslation_dict,redecomposition_dict,all_retranslation_dict,correct_abs_id_list,k_ambiguity = 1,total_ambiguity_threshold = 2**14):\n",
    "    np.random.seed(0)\n",
    "    order_idx = np.random.choice(len(correct_abs_id_list),size=len(correct_abs_id_list),replace=False)\n",
    "    cur_retranslation_dict = copy.deepcopy(retranslation_dict)\n",
    "    cur_ambiguity = synthTL.count_graphs(cur_graph,cur_retranslation_dict,redecomposition_dict,mode='baseline')\n",
    "    for next_id_query in [correct_abs_id_list[idx] for idx in order_idx]:\n",
    "        if len(cur_retranslation_dict[next_id_query]) < k_ambiguity and cur_ambiguity*k_ambiguity < total_ambiguity_threshold:\n",
    "            cur_translation_list = synthTL.remove_duplicate_translations(all_retranslation_dict[next_id_query])\n",
    "            extra_select = cur_translation_list[:k_ambiguity-1]\n",
    "            cur_retranslation_dict[next_id_query] = retranslation_dict[next_id_query] + extra_select\n",
    "            cur_ambiguity = synthTL.count_graphs(cur_graph,cur_retranslation_dict,redecomposition_dict,mode='baseline')\n",
    "    print(cur_ambiguity)\n",
    "    return cur_retranslation_dict\n",
    "    \n",
    "cur_retranslation_dict, cur_redecomposition_dict, all_retranslation_dict, all_redecomposition_dict, correct_abs_id_list = load_llm_translation(exp_name)\n",
    "cur_retranslation_dict = set_translation_ambiguity(\n",
    "                            cur_graph,\n",
    "                            cur_retranslation_dict,\n",
    "                            cur_redecomposition_dict,\n",
    "                            all_retranslation_dict,\n",
    "                            correct_abs_id_list,\n",
    "                            k_ambiguity = 2,\n",
    "                            total_ambiguity_threshold = 2**13)"
   ]
  },
  {
   "cell_type": "code",
   "execution_count": 6,
   "id": "221d882d-c172-46c9-9779-325a49b8170a",
   "metadata": {},
   "outputs": [
    {
     "data": {
      "text/plain": [
       "4096"
      ]
     },
     "execution_count": 6,
     "metadata": {},
     "output_type": "execute_result"
    }
   ],
   "source": [
    "all_graph_list = synthTL.get_deconstrain_decomposition_for_node(cur_graph,cur_graph,cur_retranslation_dict,cur_redecomposition_dict,\n",
    "                                                  cur_cache={},\n",
    "                                                  skip_set=set(),\n",
    "                                                  visited_set=set(),\n",
    "                                                  check_trivial=False,\n",
    "                                                  filter_res=False,\n",
    "                                                  mode=\"all\",\n",
    "                                                   )\n",
    "len(all_graph_list)"
   ]
  },
  {
   "cell_type": "code",
   "execution_count": 7,
   "id": "8d147b99-1bb6-4cd8-ac9f-7c78e2534ead",
   "metadata": {},
   "outputs": [],
   "source": [
    "np.random.seed(0)\n",
    "num_ex = 10\n",
    "select_idx = np.random.choice(len(all_graph_list),size=np.minimum(num_ex,len(all_graph_list)),replace=False)\n",
    "cur_graph_list = [all_graph_list[idx] for idx in select_idx]"
   ]
  },
  {
   "cell_type": "code",
   "execution_count": 8,
   "id": "6529c049-3d96-4c54-b6ad-b85bdee7c533",
   "metadata": {},
   "outputs": [],
   "source": [
    "translation_list = [g.translation for g in cur_graph_list]"
   ]
  },
  {
   "cell_type": "markdown",
   "id": "332446f1-dfd3-4c24-82fc-3b63e001784f",
   "metadata": {},
   "source": [
    "run exhaustive model checking"
   ]
  },
  {
   "cell_type": "code",
   "execution_count": 9,
   "id": "b9646b05-4386-4ab6-8b7f-105c9092b2bf",
   "metadata": {},
   "outputs": [
    {
     "name": "stderr",
     "output_type": "stream",
     "text": [
      "100%|████████████████████████████████████████████████████████████████████████████████████████████████████████████████████████████████████████████████████████████████████████████████████████████████████████████████████████████████████████████████████████████████████████████████████████| 10/10 [01:50<00:00, 11.06s/it]"
     ]
    },
    {
     "name": "stdout",
     "output_type": "stream",
     "text": [
      "CPU times: user 1min 50s, sys: 1.37 s, total: 1min 51s\n",
      "Wall time: 1min 50s\n"
     ]
    },
    {
     "name": "stderr",
     "output_type": "stream",
     "text": [
      "\n"
     ]
    }
   ],
   "source": [
    "%%time\n",
    "exh_hold_list = []\n",
    "for translation in tqdm(translation_list):\n",
    "    if spot_utils.check_formula_contains_formula(translation,formula_DUT):\n",
    "        exh_hold_list.append(translation)"
   ]
  },
  {
   "cell_type": "markdown",
   "id": "6311ea05-df40-440d-ac68-82dfbc79d3bd",
   "metadata": {},
   "source": [
    "run synthTL's batch model checking"
   ]
  },
  {
   "cell_type": "code",
   "execution_count": 10,
   "id": "74efc0e1-f23d-478e-a10f-c93c8d892ae2",
   "metadata": {},
   "outputs": [
    {
     "name": "stdout",
     "output_type": "stream",
     "text": [
      "CPU times: user 5.92 s, sys: 92.6 ms, total: 6.01 s\n",
      "Wall time: 5.94 s\n"
     ]
    }
   ],
   "source": [
    "%%time\n",
    "batch_hold_list = synthTL.batch_model_check(translation_list,formula_DUT)"
   ]
  },
  {
   "cell_type": "code",
   "execution_count": 11,
   "id": "d6d555a1-8240-4f73-b613-3b4e7fc07c7f",
   "metadata": {},
   "outputs": [],
   "source": [
    "assert set(exh_hold_list) == set(batch_hold_list)"
   ]
  },
  {
   "cell_type": "code",
   "execution_count": null,
   "id": "dc18e8aa-58c8-4cd5-a27f-256f6f5155e4",
   "metadata": {},
   "outputs": [],
   "source": []
  }
 ],
 "metadata": {
  "kernelspec": {
   "display_name": "Python 3 (ipykernel)",
   "language": "python",
   "name": "python3"
  },
  "language_info": {
   "codemirror_mode": {
    "name": "ipython",
    "version": 3
   },
   "file_extension": ".py",
   "mimetype": "text/x-python",
   "name": "python",
   "nbconvert_exporter": "python",
   "pygments_lexer": "ipython3",
   "version": "3.8.10"
  }
 },
 "nbformat": 4,
 "nbformat_minor": 5
}
