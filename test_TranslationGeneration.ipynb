{
 "cells": [
  {
   "cell_type": "code",
   "execution_count": 1,
   "id": "603f37a0-79b1-4c26-8414-963a7bc44f49",
   "metadata": {},
   "outputs": [],
   "source": [
    "import openai\n",
    "import synthTL"
   ]
  },
  {
   "cell_type": "code",
   "execution_count": 2,
   "id": "82be5952-c449-4b62-986c-e26242669011",
   "metadata": {},
   "outputs": [],
   "source": [
    "##set openai key\n",
    "openai.api_key = open(\"oai_key.txt\",\"r\").read()"
   ]
  },
  {
   "cell_type": "code",
   "execution_count": 3,
   "id": "4f6b1522-66d5-4b46-8a82-08b314527e89",
   "metadata": {},
   "outputs": [],
   "source": [
    "##set LLM to use\n",
    "synthTL._LLM_NAME_=\"gpt-4-0125-preview\""
   ]
  },
  {
   "cell_type": "code",
   "execution_count": 4,
   "id": "a068d092-3222-41fa-9b98-afa71b2f2e33",
   "metadata": {},
   "outputs": [],
   "source": [
    "##define the natural language to be translated to LTL\n",
    "test_str = \"GRANT high implies REQUEST is high and then REQUEST is low\""
   ]
  },
  {
   "cell_type": "code",
   "execution_count": 5,
   "id": "d4354cc7-1668-4c92-a266-772ea94648d7",
   "metadata": {},
   "outputs": [],
   "source": [
    "##define the DUT as a LTL formula (optional, can specify None)\n",
    "##NOTE: this proof-of-concept implementation of synthTL represents DUTs as LTL formulas\n",
    "formula_DUT = \"G (_grant_ -> (_request_ & X !_request_))\"\n",
    "#formula_DUT = None"
   ]
  },
  {
   "cell_type": "code",
   "execution_count": 6,
   "id": "c6d38d72-86aa-4d40-b9e9-f1a0e4428b46",
   "metadata": {},
   "outputs": [],
   "source": [
    "##define the variable's of the DUT\n",
    "##NOTE: the variables are interpreted as atomic propositions\n",
    "synthTL.cur_DUT_variables = ['_grant_','_request_']"
   ]
  },
  {
   "cell_type": "code",
   "execution_count": 7,
   "id": "495b30d4-c57f-4a87-b961-654458e3b992",
   "metadata": {},
   "outputs": [],
   "source": [
    "##specify number of times to query the LLM for each generated node\n",
    "num_llm_query = 3"
   ]
  },
  {
   "cell_type": "code",
   "execution_count": 8,
   "id": "6405d778-e427-4f39-a946-5951e246c351",
   "metadata": {},
   "outputs": [
    {
     "name": "stderr",
     "output_type": "stream",
     "text": [
      "100%|██████████████████████████████████████████████████████████████████████████████████████████████████████████████████████████████████████████████████████████████████████████████████████████████████████████████████████████████████████████████████████████████████████████████████████████| 8/8 [00:58<00:00,  7.26s/it]\n"
     ]
    },
    {
     "name": "stdout",
     "output_type": "stream",
     "text": [
      "new decomposition found:\n",
      "original text:\n",
      "GRANT high implies REQUEST is high and then REQUEST is low\n",
      "\n",
      "abstracted natural language:\n",
      "_SYMBOL0_ implies _SYMBOL1_ and _SYMBOL2_\n",
      "\n",
      "num dcmp nodes: 3\n"
     ]
    },
    {
     "name": "stdin",
     "output_type": "stream",
     "text": [
      "is this a desired and valid decomposition? y/n y\n"
     ]
    },
    {
     "name": "stdout",
     "output_type": "stream",
     "text": [
      "\n",
      "new decomposition found:\n",
      "original text:\n",
      "GRANT high implies REQUEST is high and then REQUEST is low\n",
      "\n",
      "abstracted natural language:\n",
      "_SYMBOL0_ implies _SYMBOL1_ and then _SYMBOL2_\n",
      "\n",
      "num dcmp nodes: 3\n"
     ]
    },
    {
     "name": "stdin",
     "output_type": "stream",
     "text": [
      "is this a desired and valid decomposition? y/n y\n"
     ]
    },
    {
     "name": "stdout",
     "output_type": "stream",
     "text": [
      "\n",
      "new decomposition found:\n",
      "original text:\n",
      "GRANT high implies REQUEST is high and then REQUEST is low\n",
      "\n",
      "abstracted natural language:\n",
      "_SYMBOL0_ implies _SYMBOL1_\n",
      "\n",
      "num dcmp nodes: 2\n"
     ]
    },
    {
     "name": "stdin",
     "output_type": "stream",
     "text": [
      "is this a desired and valid decomposition? y/n y\n"
     ]
    },
    {
     "name": "stdout",
     "output_type": "stream",
     "text": [
      "\n",
      "new decomposition found:\n",
      "original text:\n",
      "GRANT high\n",
      "\n",
      "abstracted natural language:\n",
      "GRANT high\n",
      "\n",
      "num dcmp nodes: 0\n",
      "(no decomposition)\n"
     ]
    },
    {
     "name": "stdin",
     "output_type": "stream",
     "text": [
      "is this a desired and valid decomposition? y/n y\n"
     ]
    },
    {
     "name": "stdout",
     "output_type": "stream",
     "text": [
      "\n",
      "new decomposition found:\n",
      "original text:\n",
      "REQUEST is high\n",
      "\n",
      "abstracted natural language:\n",
      "REQUEST is high\n",
      "\n",
      "num dcmp nodes: 0\n",
      "(no decomposition)\n"
     ]
    },
    {
     "name": "stdin",
     "output_type": "stream",
     "text": [
      "is this a desired and valid decomposition? y/n y\n"
     ]
    },
    {
     "name": "stdout",
     "output_type": "stream",
     "text": [
      "\n",
      "new decomposition found:\n",
      "original text:\n",
      "then REQUEST is low\n",
      "\n",
      "abstracted natural language:\n",
      "then REQUEST is low\n",
      "\n",
      "num dcmp nodes: 0\n",
      "(no decomposition)\n"
     ]
    },
    {
     "name": "stdin",
     "output_type": "stream",
     "text": [
      "is this a desired and valid decomposition? y/n y\n"
     ]
    },
    {
     "name": "stdout",
     "output_type": "stream",
     "text": [
      "\n",
      "new decomposition found:\n",
      "original text:\n",
      "REQUEST is low\n",
      "\n",
      "abstracted natural language:\n",
      "REQUEST is low\n",
      "\n",
      "num dcmp nodes: 0\n",
      "(no decomposition)\n"
     ]
    },
    {
     "name": "stdin",
     "output_type": "stream",
     "text": [
      "is this a desired and valid decomposition? y/n y\n"
     ]
    },
    {
     "name": "stdout",
     "output_type": "stream",
     "text": [
      "\n",
      "new decomposition found:\n",
      "original text:\n",
      "REQUEST is high and then REQUEST is low\n",
      "\n",
      "abstracted natural language:\n",
      "_SYMBOL0_ and then _SYMBOL1_\n",
      "\n",
      "num dcmp nodes: 2\n"
     ]
    },
    {
     "name": "stdin",
     "output_type": "stream",
     "text": [
      "is this a desired and valid decomposition? y/n y\n"
     ]
    },
    {
     "name": "stdout",
     "output_type": "stream",
     "text": [
      "\n",
      "new translation found:\n",
      "abstracted natural language:\n",
      "_SYMBOL0_ implies _SYMBOL1_ and _SYMBOL2_\n",
      "\n",
      "translation:\n",
      "G ((_SYMBOL0_) -> ((_SYMBOL1_) && (_SYMBOL2_)))\n",
      "\n"
     ]
    },
    {
     "name": "stdin",
     "output_type": "stream",
     "text": [
      "is this a correct translation? y/n y\n"
     ]
    },
    {
     "name": "stdout",
     "output_type": "stream",
     "text": [
      "\n",
      "new translation found:\n",
      "abstracted natural language:\n",
      "_SYMBOL0_ implies _SYMBOL1_ and then _SYMBOL2_\n",
      "\n",
      "translation:\n",
      "G ((_SYMBOL0_) -> ((_SYMBOL1_) && X (_SYMBOL2_)))\n",
      "\n"
     ]
    },
    {
     "name": "stdin",
     "output_type": "stream",
     "text": [
      "is this a correct translation? y/n y\n"
     ]
    },
    {
     "name": "stdout",
     "output_type": "stream",
     "text": [
      "\n",
      "new translation found:\n",
      "abstracted natural language:\n",
      "_SYMBOL0_ implies _SYMBOL1_ and then _SYMBOL2_\n",
      "\n",
      "translation:\n",
      "(G ((_SYMBOL0_) -> (_SYMBOL1_))) && (X (_SYMBOL2_))\n",
      "\n"
     ]
    },
    {
     "name": "stdin",
     "output_type": "stream",
     "text": [
      "is this a correct translation? y/n y\n"
     ]
    },
    {
     "name": "stdout",
     "output_type": "stream",
     "text": [
      "\n",
      "new translation found:\n",
      "abstracted natural language:\n",
      "_SYMBOL0_ implies _SYMBOL1_\n",
      "\n",
      "translation:\n",
      "G ((_SYMBOL0_) -> (_SYMBOL1_))\n",
      "\n"
     ]
    },
    {
     "name": "stdin",
     "output_type": "stream",
     "text": [
      "is this a correct translation? y/n y\n"
     ]
    },
    {
     "name": "stdout",
     "output_type": "stream",
     "text": [
      "\n",
      "new translation found:\n",
      "abstracted natural language:\n",
      "GRANT high\n",
      "\n",
      "translation:\n",
      "(_grant_)\n",
      "\n"
     ]
    },
    {
     "name": "stdin",
     "output_type": "stream",
     "text": [
      "is this a correct translation? y/n y\n"
     ]
    },
    {
     "name": "stdout",
     "output_type": "stream",
     "text": [
      "\n",
      "new translation found:\n",
      "abstracted natural language:\n",
      "REQUEST is high\n",
      "\n",
      "translation:\n",
      "(_request_)\n",
      "\n"
     ]
    },
    {
     "name": "stdin",
     "output_type": "stream",
     "text": [
      "is this a correct translation? y/n y\n"
     ]
    },
    {
     "name": "stdout",
     "output_type": "stream",
     "text": [
      "\n",
      "new translation found:\n",
      "abstracted natural language:\n",
      "then REQUEST is low\n",
      "\n",
      "translation:\n",
      "(!(_request_))\n",
      "\n"
     ]
    },
    {
     "name": "stdin",
     "output_type": "stream",
     "text": [
      "is this a correct translation? y/n y\n"
     ]
    },
    {
     "name": "stdout",
     "output_type": "stream",
     "text": [
      "\n",
      "new translation found:\n",
      "abstracted natural language:\n",
      "REQUEST is low\n",
      "\n",
      "translation:\n",
      "(!(_request_))\n",
      "\n"
     ]
    },
    {
     "name": "stdin",
     "output_type": "stream",
     "text": [
      "is this a correct translation? y/n y\n"
     ]
    },
    {
     "name": "stdout",
     "output_type": "stream",
     "text": [
      "\n",
      "new translation found:\n",
      "abstracted natural language:\n",
      "_SYMBOL0_ and then _SYMBOL1_\n",
      "\n",
      "translation:\n",
      "((_SYMBOL0_) U (_SYMBOL1_))\n",
      "\n"
     ]
    },
    {
     "name": "stdin",
     "output_type": "stream",
     "text": [
      "is this a correct translation? y/n y\n"
     ]
    },
    {
     "name": "stdout",
     "output_type": "stream",
     "text": [
      "\n",
      "new translation found:\n",
      "abstracted natural language:\n",
      "_SYMBOL0_ and then _SYMBOL1_\n",
      "\n",
      "translation:\n",
      "((_SYMBOL0_) && X (_SYMBOL1_))\n",
      "\n"
     ]
    },
    {
     "name": "stdin",
     "output_type": "stream",
     "text": [
      "is this a correct translation? y/n y\n"
     ]
    },
    {
     "name": "stdout",
     "output_type": "stream",
     "text": [
      "\n",
      "found a specification that holds on the DUT!\n"
     ]
    }
   ],
   "source": [
    "is_hold, metadata = synthTL.generate_validate_and_search(\n",
    "    test_str,\n",
    "    formula_DUT,\n",
    "    num_llm_query,\n",
    "    )"
   ]
  },
  {
   "cell_type": "code",
   "execution_count": 9,
   "id": "09dbdbf0-6856-4588-9ecc-8cba6e6a3149",
   "metadata": {},
   "outputs": [
    {
     "name": "stdout",
     "output_type": "stream",
     "text": [
      "The following is a specification that holds on the DUT\n",
      "\n",
      " Text: SYMBOL0 implies SYMBOL1 and then SYMBOL2\n",
      " Translation: G ((_SYMBOL0_) -> ((_SYMBOL1_) && X (_SYMBOL2_)))\n",
      "\t Text: GRANT high\n",
      "\t Symbol: SYMBOL0\n",
      "\t Translation: (_grant_)\n",
      "\t Text: REQUEST is high\n",
      "\t Symbol: SYMBOL1\n",
      "\t Translation: (_request_)\n",
      "\t Text: REQUEST is low\n",
      "\t Symbol: SYMBOL2\n",
      "\t Translation: (!(_request_))\n"
     ]
    }
   ],
   "source": [
    "if is_hold:\n",
    "    print(\"The following is a specification that holds on the DUT\")\n",
    "    holds_graph_list = metadata\n",
    "    print(synthTL.graph_to_str(holds_graph_list[0]))\n",
    "else:\n",
    "    print(\"did not find a specification that holds on the DUT\")\n",
    "    print(\"The following are possible culprits:\")\n",
    "    culprit_per_graph_list = metadata\n",
    "    for i in range(len(culprit_per_graph_list)):\n",
    "        print(\"graph #\",i)\n",
    "        for node in culprit_per_graph_list[i]:\n",
    "            print(\"\\t\",synthTL.get_abstract_node_id(node))\n",
    "            print(\"\\t\",synthTL.get_node_translation(node))\n",
    "            print()\n",
    "        print()"
   ]
  },
  {
   "cell_type": "code",
   "execution_count": null,
   "id": "28d334bb-9ed0-4208-ad9e-f92164f068ed",
   "metadata": {},
   "outputs": [],
   "source": []
  }
 ],
 "metadata": {
  "kernelspec": {
   "display_name": "Python 3 (ipykernel)",
   "language": "python",
   "name": "python3"
  },
  "language_info": {
   "codemirror_mode": {
    "name": "ipython",
    "version": 3
   },
   "file_extension": ".py",
   "mimetype": "text/x-python",
   "name": "python",
   "nbconvert_exporter": "python",
   "pygments_lexer": "ipython3",
   "version": "3.8.10"
  }
 },
 "nbformat": 4,
 "nbformat_minor": 5
}
